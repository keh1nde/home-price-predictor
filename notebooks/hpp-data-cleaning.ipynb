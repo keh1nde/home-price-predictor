{
 "cells": [
  {
   "metadata": {},
   "cell_type": "markdown",
   "source": "The dataset was sourced from: https://www.kaggle.com/datasets/yasserh/housing-prices-dataset",
   "id": "da34630f001c7181"
  },
  {
   "metadata": {
    "ExecuteTime": {
     "end_time": "2024-09-28T21:36:38.776094Z",
     "start_time": "2024-09-28T21:36:38.769622Z"
    }
   },
   "cell_type": "code",
   "source": [
    "import pandas as pd\n",
    "import matplotlib.pyplot as plt\n",
    "import seaborn as sns\n",
    "from scipy import stats\n",
    "from sklearn.preprocessing import MinMaxScaler\n",
    "from sklearn.model_selection import train_test_split\n",
    "from sklearn.metrics import mean_squared_error, r2_score"
   ],
   "id": "2240e8f436676b3e",
   "execution_count": 88,
   "outputs": []
  },
  {
   "metadata": {},
   "cell_type": "markdown",
   "source": "## Data Inspection",
   "id": "78c0329ccac70b4b"
  },
  {
   "metadata": {
    "ExecuteTime": {
     "end_time": "2024-09-28T21:36:39.784815Z",
     "start_time": "2024-09-28T21:36:39.775362Z"
    }
   },
   "cell_type": "code",
   "source": [
    "df = pd.read_csv(\"../../backend/data/housing-dataset.csv\")\n",
    "df.head(50)"
   ],
   "id": "958f3a621ab23599",
   "execution_count": 89,
   "outputs": []
  },
  {
   "metadata": {
    "ExecuteTime": {
     "end_time": "2024-09-28T21:36:42.605159Z",
     "start_time": "2024-09-28T21:36:42.600913Z"
    }
   },
   "cell_type": "code",
   "source": "df.shape",
   "id": "47f97199870cea22",
   "execution_count": 90,
   "outputs": []
  },
  {
   "metadata": {
    "ExecuteTime": {
     "end_time": "2024-09-28T21:36:43.319445Z",
     "start_time": "2024-09-28T21:36:43.313941Z"
    }
   },
   "cell_type": "code",
   "source": "df.info",
   "id": "cd5dbd15e93b53d1",
   "execution_count": 91,
   "outputs": []
  },
  {
   "metadata": {
    "ExecuteTime": {
     "end_time": "2024-09-28T21:36:44.257727Z",
     "start_time": "2024-09-28T21:36:44.254174Z"
    }
   },
   "cell_type": "code",
   "source": "df.columns",
   "id": "99962c7f1a38f9c8",
   "execution_count": 92,
   "outputs": []
  },
  {
   "metadata": {
    "ExecuteTime": {
     "end_time": "2024-09-28T21:36:44.954060Z",
     "start_time": "2024-09-28T21:36:44.948999Z"
    }
   },
   "cell_type": "code",
   "source": "df.dtypes",
   "id": "dcfcbb08ff1d3a22",
   "execution_count": 93,
   "outputs": []
  },
  {
   "metadata": {
    "ExecuteTime": {
     "end_time": "2024-09-28T21:36:46.256053Z",
     "start_time": "2024-09-28T21:36:46.251810Z"
    }
   },
   "cell_type": "code",
   "source": "df.isnull().sum()",
   "id": "9e4aea25a5012a30",
   "execution_count": 94,
   "outputs": []
  },
  {
   "metadata": {
    "ExecuteTime": {
     "end_time": "2024-09-28T21:36:47.571626Z",
     "start_time": "2024-09-28T21:36:47.566003Z"
    }
   },
   "cell_type": "code",
   "source": [
    "# Encoding boolean values from string to int (1 for yes, 0 for no)\n",
    "df[['mainroad','guestroom','basement','hotwaterheating','airconditioning','prefarea']] = df[['mainroad','guestroom','basement','hotwaterheating','airconditioning','prefarea']].replace({'yes': 1, 'no': 0}).astype(int)"
   ],
   "id": "ad14b5406701c366",
   "execution_count": 95,
   "outputs": []
  },
  {
   "metadata": {
    "ExecuteTime": {
     "end_time": "2024-09-28T21:36:48.509810Z",
     "start_time": "2024-09-28T21:36:48.506359Z"
    }
   },
   "cell_type": "code",
   "source": [
    "# Encoding furnishing status from string to int (0 for unfurnished, 1 for semi-furnished, 2 for furnished)\n",
    "df[\"furnishingstatus\"].replace({\"unfurnished\": 0, \"semi-furnished\": 1, \"furnished\": 2}, inplace=True)"
   ],
   "id": "c3f3076cc049f1f6",
   "execution_count": 96,
   "outputs": []
  },
  {
   "metadata": {
    "ExecuteTime": {
     "end_time": "2024-09-28T21:36:48.880871Z",
     "start_time": "2024-09-28T21:36:48.876568Z"
    }
   },
   "cell_type": "code",
   "source": "df.head(5)",
   "id": "7fe718f29d6fbeee",
   "execution_count": 97,
   "outputs": []
  },
  {
   "metadata": {
    "ExecuteTime": {
     "end_time": "2024-09-28T21:36:49.945911Z",
     "start_time": "2024-09-28T21:36:49.942541Z"
    }
   },
   "cell_type": "code",
   "source": "df.dtypes",
   "id": "fbdd77fc166d2f40",
   "execution_count": 98,
   "outputs": []
  },
  {
   "metadata": {},
   "cell_type": "markdown",
   "source": "Feature Engineering:",
   "id": "3906b93e5cbdb4c8"
  },
  {
   "metadata": {
    "ExecuteTime": {
     "end_time": "2024-09-28T21:36:51.289144Z",
     "start_time": "2024-09-28T21:36:51.283313Z"
    }
   },
   "cell_type": "code",
   "source": [
    "# Feature: Total Number of Rooms\n",
    "df['total_rooms'] = df['bedrooms'] + df['bathrooms']\n",
    "\n",
    "# Feature: Area per room\n",
    "df['area_per_room'] = df['area'] / df['total_rooms']\n",
    "\n",
    "# Feature: Number of Amenities\n",
    "amenities = ['mainroad', 'guestroom', 'basement', 'hotwaterheating', 'airconditioning']\n",
    "df['amenity_count'] = df[amenities].sum(axis=1)"
   ],
   "id": "30ee46398eab709f",
   "execution_count": 99,
   "outputs": []
  },
  {
   "metadata": {
    "ExecuteTime": {
     "end_time": "2024-09-28T21:41:01.585232Z",
     "start_time": "2024-09-28T21:41:01.578442Z"
    }
   },
   "cell_type": "code",
   "source": [
    "from scipy import stats\n",
    "\n",
    "# We will use z-score to find and remove outliers\n",
    "z_scores = stats.zscore(df[['price', 'area']])\n",
    "abs_z_scores = abs(z_scores)\n",
    "outliers = (abs_z_scores > 2.5).any(axis=1)\n",
    "outlier_data = df[outliers]\n",
    "\n",
    "print(f\"Outliers based on Z-scores:\\n{outlier_data}\")\n",
    "print(\"Number of Outliers:\", len(df[outliers].index))\n"
   ],
   "id": "1ae4052c790248cd",
   "execution_count": 106,
   "outputs": []
  },
  {
   "metadata": {
    "ExecuteTime": {
     "end_time": "2024-09-28T21:41:16.552485Z",
     "start_time": "2024-09-28T21:41:16.549769Z"
    }
   },
   "cell_type": "code",
   "source": [
    "# We will drop the 13 outliers from the dataset\n",
    "df= df.drop(df.index[outliers])"
   ],
   "id": "8c6b2b1d1aa5dd1b",
   "execution_count": 107,
   "outputs": []
  },
  {
   "metadata": {},
   "cell_type": "markdown",
   "source": "Checking Correlation between features",
   "id": "658e97e86bb0da8f"
  },
  {
   "metadata": {
    "ExecuteTime": {
     "end_time": "2024-09-28T21:41:19.205228Z",
     "start_time": "2024-09-28T21:41:18.821663Z"
    }
   },
   "cell_type": "code",
   "source": [
    "corr = df.corr()\n",
    "plt.figure(figsize=(20, 20))\n",
    "sns.heatmap(corr, annot=True)"
   ],
   "id": "360bb923e6c72783",
   "execution_count": 108,
   "outputs": []
  },
  {
   "metadata": {
    "ExecuteTime": {
     "end_time": "2024-09-28T21:41:26.294854Z",
     "start_time": "2024-09-28T21:41:26.290423Z"
    }
   },
   "cell_type": "code",
   "source": [
    "corr_target = abs(corr[\"price\"])\n",
    "correlated_features = corr_target[corr_target>0.2]\n",
    "\n",
    "names = [index for index, value in correlated_features.items()]\n",
    "\n",
    "names.remove(\"price\")\n",
    "\n",
    "print(names)"
   ],
   "id": "4fb2db380e7a8289",
   "execution_count": 109,
   "outputs": []
  },
  {
   "metadata": {},
   "cell_type": "markdown",
   "source": "## Preprocessing",
   "id": "54abaf9ba8a6e799"
  },
  {
   "metadata": {
    "ExecuteTime": {
     "end_time": "2024-09-28T22:03:32.582137Z",
     "start_time": "2024-09-28T22:03:32.565622Z"
    }
   },
   "cell_type": "code",
   "source": [
    "# Saving dataset after changes\n",
    "df.to_csv('../../backend/data/housing-dataset.csv', index=False)\n",
    "\n",
    "# Creating training dataset\n",
    "train_df = pd.read_csv('../../backend/data/housing-dataset.csv')\n",
    "train_df.to_csv('../../backend/data/training-housing-dataset.csv')\n"
   ],
   "id": "f3f26f9193a0cdb3",
   "execution_count": 119,
   "outputs": []
  },
  {
   "metadata": {
    "ExecuteTime": {
     "end_time": "2024-09-28T22:03:32.966972Z",
     "start_time": "2024-09-28T22:03:32.959900Z"
    }
   },
   "cell_type": "code",
   "source": "train_df.head()",
   "id": "9055f8430e6d6e9b",
   "execution_count": 120,
   "outputs": []
  },
  {
   "metadata": {
    "ExecuteTime": {
     "end_time": "2024-09-28T22:03:33.764439Z",
     "start_time": "2024-09-28T22:03:33.757043Z"
    }
   },
   "cell_type": "code",
   "source": [
    "# Scaling Data\n",
    "scaled_columns = [\"price\", \"area\", \"area_per_room\"]\n",
    "scaler = MinMaxScaler()\n",
    "train_df[scaled_columns] = scaler.fit_transform(df[scaled_columns])"
   ],
   "id": "91c9dec43a5446a6",
   "execution_count": 121,
   "outputs": []
  },
  {
   "metadata": {
    "ExecuteTime": {
     "end_time": "2024-09-28T22:03:34.268061Z",
     "start_time": "2024-09-28T22:03:34.262774Z"
    }
   },
   "cell_type": "code",
   "source": [
    "# Saving scaling\n",
    "train_df.to_csv('../../backend/data/training-housing-dataset.csv')"
   ],
   "id": "c81271868654281d",
   "execution_count": 122,
   "outputs": []
  },
  {
   "metadata": {
    "ExecuteTime": {
     "end_time": "2024-09-28T22:03:34.645584Z",
     "start_time": "2024-09-28T22:03:34.639130Z"
    }
   },
   "cell_type": "code",
   "source": "train_df.head()",
   "id": "897a7683fbfeaf40",
   "execution_count": 123,
   "outputs": []
  },
  {
   "metadata": {
    "ExecuteTime": {
     "end_time": "2024-09-28T22:03:35.765849Z",
     "start_time": "2024-09-28T22:03:35.760182Z"
    }
   },
   "cell_type": "code",
   "source": [
    "# Creating training and testing datasets\n",
    "X = train_df.drop(columns=\"price\")\n",
    "Y = train_df['price']\n",
    "\n",
    "X_train, X_test, Y_train, Y_test = train_test_split(X, Y, test_size=0.15, random_state=42)"
   ],
   "id": "a20937fe08cda695",
   "execution_count": 124,
   "outputs": []
  },
  {
   "metadata": {
    "ExecuteTime": {
     "end_time": "2024-09-28T22:04:16.751245Z",
     "start_time": "2024-09-28T22:04:16.737950Z"
    }
   },
   "cell_type": "code",
   "source": [
    "# Finding best alpha for model\n",
    "from sklearn.linear_model import ElasticNetCV\n",
    "Enet_cv = ElasticNetCV(alphas=[0.01, 0.1, 1.0, 10.0, 100.0], cv=5)\n",
    "Enet_cv.fit(X_train, Y_train)\n",
    "print(f\"Optimal alpha: {Enet_cv.alpha_}\")"
   ],
   "id": "8d7f9f75c5223f6f",
   "execution_count": 126,
   "outputs": []
  },
  {
   "metadata": {
    "ExecuteTime": {
     "end_time": "2024-09-28T22:04:40.266953Z",
     "start_time": "2024-09-28T22:04:40.262761Z"
    }
   },
   "cell_type": "code",
   "source": [
    "# Training the model\n",
    "from sklearn.linear_model import ElasticNet\n",
    "model = ElasticNet(alpha=0.01)\n",
    "model.fit(X_train, Y_train)"
   ],
   "id": "e859c0178b347375",
   "execution_count": 129,
   "outputs": []
  },
  {
   "metadata": {
    "ExecuteTime": {
     "end_time": "2024-09-28T22:04:50.890177Z",
     "start_time": "2024-09-28T22:04:50.885967Z"
    }
   },
   "cell_type": "code",
   "source": [
    "# Making predictions with the model\n",
    "Y_pred = model.predict(X_test)\n",
    "# Evaluating model performance\n",
    "mse = mean_squared_error(Y_test, Y_pred)\n",
    "r2 = r2_score(Y_test, Y_pred)\n",
    "\n",
    "print(\"mean squared error:\", mse)\n",
    "print(\"regression^2\", r2)"
   ],
   "id": "795722df6e0b0e23",
   "execution_count": 131,
   "outputs": []
  }
 ],
 "metadata": {
  "kernelspec": {
   "display_name": "Python 3",
   "language": "python",
   "name": "python3"
  },
  "language_info": {
   "codemirror_mode": {
    "name": "ipython",
    "version": 2
   },
   "file_extension": ".py",
   "mimetype": "text/x-python",
   "name": "python",
   "nbconvert_exporter": "python",
   "pygments_lexer": "ipython2",
   "version": "2.7.6"
  }
 },
 "nbformat": 4,
 "nbformat_minor": 5
}
