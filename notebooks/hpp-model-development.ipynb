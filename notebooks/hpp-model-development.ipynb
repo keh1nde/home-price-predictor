{
 "cells": [
  {
   "metadata": {},
   "cell_type": "markdown",
   "source": "Used libraries:",
   "id": "a42449c40650cbdc"
  },
  {
   "cell_type": "code",
   "id": "initial_id",
   "metadata": {
    "collapsed": true,
    "ExecuteTime": {
     "end_time": "2024-09-28T22:42:22.788925Z",
     "start_time": "2024-09-28T22:42:22.784478Z"
    }
   },
   "source": [
    "import pandas as pd\n",
    "from sklearn.preprocessing import MinMaxScaler\n",
    "from sklearn.model_selection import train_test_split\n",
    "from sklearn.metrics import mean_squared_error, r2_score\n",
    "from sklearn.linear_model import ElasticNetCV\n",
    "from sklearn.linear_model import ElasticNet\n",
    "import optuna\n",
    "import pickle"
   ],
   "execution_count": 167,
   "outputs": []
  },
  {
   "metadata": {},
   "cell_type": "markdown",
   "source": "## Preprocessing",
   "id": "97f6258857c2fd4c"
  },
  {
   "metadata": {
    "ExecuteTime": {
     "end_time": "2024-09-28T22:35:41.853460Z",
     "start_time": "2024-09-28T22:35:41.847994Z"
    }
   },
   "cell_type": "code",
   "source": [
    "# Import dataset\n",
    "train_df = pd.read_csv('../../backend/data/training-housing-dataset.csv')"
   ],
   "id": "6b36e553a15e8a99",
   "execution_count": 157,
   "outputs": []
  },
  {
   "metadata": {
    "ExecuteTime": {
     "end_time": "2024-09-28T22:35:42.352973Z",
     "start_time": "2024-09-28T22:35:42.346485Z"
    }
   },
   "cell_type": "code",
   "source": "train_df.head()",
   "id": "441ef563b06b5955",
   "execution_count": 158,
   "outputs": []
  },
  {
   "metadata": {
    "ExecuteTime": {
     "end_time": "2024-09-28T22:35:42.994208Z",
     "start_time": "2024-09-28T22:35:42.989748Z"
    }
   },
   "cell_type": "code",
   "source": [
    "# Scaling Data\n",
    "scaled_columns = [\"price\", \"area\", \"area_per_room\"]\n",
    "scaler = MinMaxScaler()\n",
    "train_df[scaled_columns] = scaler.fit_transform(train_df[scaled_columns])"
   ],
   "id": "90a8ddb0f26ae66e",
   "execution_count": 159,
   "outputs": []
  },
  {
   "metadata": {
    "ExecuteTime": {
     "end_time": "2024-09-28T22:35:43.474057Z",
     "start_time": "2024-09-28T22:35:43.467766Z"
    }
   },
   "cell_type": "code",
   "source": [
    "# Creating training and testing datasets\n",
    "X = train_df.drop(columns=\"price\")\n",
    "Y = train_df['price']\n",
    "\n",
    "X_train, X_test, Y_train, Y_test = train_test_split(X, Y, test_size=0.15, random_state=42)"
   ],
   "id": "9edbbac0e7b44b3d",
   "execution_count": 160,
   "outputs": []
  },
  {
   "metadata": {
    "ExecuteTime": {
     "end_time": "2024-09-28T22:35:44.104902Z",
     "start_time": "2024-09-28T22:35:44.101498Z"
    }
   },
   "cell_type": "code",
   "source": [
    "# Creating objective function for model optimization\n",
    "\n",
    "def objective_elastic(trial):\n",
    "    alpha = trial.suggest_loguniform('alpha', 1e-4, 1e1)\n",
    "    l1_ratio = trial.suggest_uniform('l1_ratio', 0.0, 1.0)\n",
    "    \n",
    "    # Creating, training and predicting Elastic Net model with suggested hyperparams\n",
    "    model = ElasticNet(alpha=alpha, l1_ratio=l1_ratio, random_state=42)\n",
    "    model.fit(X_train, Y_train)\n",
    "    y_pred = model.predict(X_test)\n",
    "    mse=mean_squared_error(Y_test, y_pred)\n",
    "    \n",
    "    return mse"
   ],
   "id": "28992f2613f9329e",
   "execution_count": 161,
   "outputs": []
  },
  {
   "metadata": {
    "ExecuteTime": {
     "end_time": "2024-09-28T22:36:49.830051Z",
     "start_time": "2024-09-28T22:36:49.223115Z"
    }
   },
   "cell_type": "code",
   "source": [
    "# Creating study and optimizing\n",
    "study = optuna.create_study(direction='minimize') # To minimize MSE\n",
    "study.optimize(objective_elastic, n_trials=100)"
   ],
   "id": "71b8668384ffdba4",
   "execution_count": 164,
   "outputs": []
  },
  {
   "metadata": {
    "ExecuteTime": {
     "end_time": "2024-09-28T22:36:52.440816Z",
     "start_time": "2024-09-28T22:36:52.437217Z"
    }
   },
   "cell_type": "code",
   "source": [
    "print('Best parameters found: ', study.best_params)\n",
    "print(\"Best MSE achieved\", study.best_value)"
   ],
   "id": "ff04401c5857623a",
   "execution_count": 165,
   "outputs": []
  },
  {
   "metadata": {
    "ExecuteTime": {
     "end_time": "2024-09-28T22:40:21.717753Z",
     "start_time": "2024-09-28T22:40:21.711297Z"
    }
   },
   "cell_type": "code",
   "source": [
    "# Training final model with best parameters\n",
    "best_params = study.best_params\n",
    "final_model = ElasticNet(alpha=best_params['alpha'], l1_ratio=best_params['l1_ratio'], random_state=42)\n",
    "# Training model on entire set\n",
    "final_model.fit(X_train, Y_train)\n",
    "\n",
    "# Model Evaluation\n",
    "y_pred = final_model.predict(X_test)\n",
    "mse = mean_squared_error(Y_test, y_pred)\n",
    "r2 = r2_score(Y_test, y_pred)\n",
    "print(f\"Test MSE with optimized hyperparameters: {mse}\")\n"
   ],
   "id": "1868546150f932fc",
   "execution_count": 166,
   "outputs": []
  },
  {
   "metadata": {
    "ExecuteTime": {
     "end_time": "2024-09-28T22:50:32.080288Z",
     "start_time": "2024-09-28T22:50:32.074876Z"
    }
   },
   "cell_type": "code",
   "source": [
    "r2 = r2_score(Y_test, y_pred)\n",
    "print(f\"Test r2 with optimized hyperparameters: {r2}\")"
   ],
   "id": "92a486a26009bb99",
   "execution_count": 169,
   "outputs": []
  },
  {
   "metadata": {
    "ExecuteTime": {
     "end_time": "2024-09-28T22:46:40.996632Z",
     "start_time": "2024-09-28T22:46:40.990336Z"
    }
   },
   "cell_type": "code",
   "source": [
    "# Saving model for use with website\n",
    "\n",
    "with open('elastic_net_model.pkl', 'wb') as file:\n",
    "    pickle.dump(final_model, file)"
   ],
   "id": "71c58b157b6a7ad0",
   "execution_count": 168,
   "outputs": []
  },
  {
   "metadata": {},
   "cell_type": "code",
   "execution_count": null,
   "source": "",
   "id": "faac74925a04fdf0",
   "outputs": []
  }
 ],
 "metadata": {
  "kernelspec": {
   "display_name": "Python 3",
   "language": "python",
   "name": "python3"
  },
  "language_info": {
   "codemirror_mode": {
    "name": "ipython",
    "version": 2
   },
   "file_extension": ".py",
   "mimetype": "text/x-python",
   "name": "python",
   "nbconvert_exporter": "python",
   "pygments_lexer": "ipython2",
   "version": "2.7.6"
  }
 },
 "nbformat": 4,
 "nbformat_minor": 5
}
