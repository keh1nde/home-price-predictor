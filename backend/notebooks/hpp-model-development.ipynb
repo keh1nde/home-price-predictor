{
 "cells": [
  {
   "metadata": {},
   "cell_type": "markdown",
   "source": "Used libraries:",
   "id": "a42449c40650cbdc"
  },
  {
   "cell_type": "code",
   "execution_count": null,
   "id": "initial_id",
   "metadata": {
    "collapsed": true
   },
   "outputs": [],
   "source": [
    "import pandas as pd\n",
    "from sklearn.preprocessing import MinMaxScaler\n",
    "from sklearn.model_selection import train_test_split\n",
    "from sklearn.metrics import mean_squared_error, r2_score\n",
    "from sklearn.linear_model import ElasticNetCV\n",
    "from sklearn.linear_model import ElasticNet\n",
    "import optuna"
   ]
  },
  {
   "metadata": {},
   "cell_type": "markdown",
   "source": "## Preprocessing",
   "id": "97f6258857c2fd4c"
  },
  {
   "metadata": {
    "ExecuteTime": {
     "end_time": "2024-09-28T22:18:28.004952Z",
     "start_time": "2024-09-28T22:18:27.999967Z"
    }
   },
   "cell_type": "code",
   "source": [
    "# Import dataset\n",
    "train_df = pd.read_csv('../../backend/data/training-housing-dataset.csv')"
   ],
   "id": "6b36e553a15e8a99",
   "outputs": [],
   "execution_count": 133
  },
  {
   "metadata": {
    "ExecuteTime": {
     "end_time": "2024-09-28T22:18:26.989719Z",
     "start_time": "2024-09-28T22:18:26.982447Z"
    }
   },
   "cell_type": "code",
   "source": "train_df.head()",
   "id": "441ef563b06b5955",
   "outputs": [
    {
     "data": {
      "text/plain": [
       "      price      area  bedrooms  bathrooms  stories  mainroad  guestroom  \\\n",
       "0  1.000000  0.553672         4          2        2         1          0   \n",
       "1  0.990741  0.209040         4          2        2         1          0   \n",
       "2  0.990741  0.694915         3          2        2         1          0   \n",
       "3  0.972222  0.491525         4          1        2         1          0   \n",
       "4  0.972222  0.559322         4          2        2         1          1   \n",
       "\n",
       "   basement  hotwaterheating  airconditioning  parking  prefarea  \\\n",
       "0         0                0                1        1         1   \n",
       "1         0                1                0        2         0   \n",
       "2         0                0                0        0         1   \n",
       "3         1                0                0        2         0   \n",
       "4         1                0                1        1         1   \n",
       "\n",
       "   furnishingstatus  total_rooms  area_per_room  amenity_count  \n",
       "0                 1            6       0.243257              2  \n",
       "1                 2            6       0.083530              2  \n",
       "2                 1            5       0.390416              1  \n",
       "3                 1            5       0.277298              2  \n",
       "4                 0            6       0.245876              4  "
      ],
      "text/html": [
       "<div>\n",
       "<style scoped>\n",
       "    .dataframe tbody tr th:only-of-type {\n",
       "        vertical-align: middle;\n",
       "    }\n",
       "\n",
       "    .dataframe tbody tr th {\n",
       "        vertical-align: top;\n",
       "    }\n",
       "\n",
       "    .dataframe thead th {\n",
       "        text-align: right;\n",
       "    }\n",
       "</style>\n",
       "<table border=\"1\" class=\"dataframe\">\n",
       "  <thead>\n",
       "    <tr style=\"text-align: right;\">\n",
       "      <th></th>\n",
       "      <th>price</th>\n",
       "      <th>area</th>\n",
       "      <th>bedrooms</th>\n",
       "      <th>bathrooms</th>\n",
       "      <th>stories</th>\n",
       "      <th>mainroad</th>\n",
       "      <th>guestroom</th>\n",
       "      <th>basement</th>\n",
       "      <th>hotwaterheating</th>\n",
       "      <th>airconditioning</th>\n",
       "      <th>parking</th>\n",
       "      <th>prefarea</th>\n",
       "      <th>furnishingstatus</th>\n",
       "      <th>total_rooms</th>\n",
       "      <th>area_per_room</th>\n",
       "      <th>amenity_count</th>\n",
       "    </tr>\n",
       "  </thead>\n",
       "  <tbody>\n",
       "    <tr>\n",
       "      <th>0</th>\n",
       "      <td>1.000000</td>\n",
       "      <td>0.553672</td>\n",
       "      <td>4</td>\n",
       "      <td>2</td>\n",
       "      <td>2</td>\n",
       "      <td>1</td>\n",
       "      <td>0</td>\n",
       "      <td>0</td>\n",
       "      <td>0</td>\n",
       "      <td>1</td>\n",
       "      <td>1</td>\n",
       "      <td>1</td>\n",
       "      <td>1</td>\n",
       "      <td>6</td>\n",
       "      <td>0.243257</td>\n",
       "      <td>2</td>\n",
       "    </tr>\n",
       "    <tr>\n",
       "      <th>1</th>\n",
       "      <td>0.990741</td>\n",
       "      <td>0.209040</td>\n",
       "      <td>4</td>\n",
       "      <td>2</td>\n",
       "      <td>2</td>\n",
       "      <td>1</td>\n",
       "      <td>0</td>\n",
       "      <td>0</td>\n",
       "      <td>1</td>\n",
       "      <td>0</td>\n",
       "      <td>2</td>\n",
       "      <td>0</td>\n",
       "      <td>2</td>\n",
       "      <td>6</td>\n",
       "      <td>0.083530</td>\n",
       "      <td>2</td>\n",
       "    </tr>\n",
       "    <tr>\n",
       "      <th>2</th>\n",
       "      <td>0.990741</td>\n",
       "      <td>0.694915</td>\n",
       "      <td>3</td>\n",
       "      <td>2</td>\n",
       "      <td>2</td>\n",
       "      <td>1</td>\n",
       "      <td>0</td>\n",
       "      <td>0</td>\n",
       "      <td>0</td>\n",
       "      <td>0</td>\n",
       "      <td>0</td>\n",
       "      <td>1</td>\n",
       "      <td>1</td>\n",
       "      <td>5</td>\n",
       "      <td>0.390416</td>\n",
       "      <td>1</td>\n",
       "    </tr>\n",
       "    <tr>\n",
       "      <th>3</th>\n",
       "      <td>0.972222</td>\n",
       "      <td>0.491525</td>\n",
       "      <td>4</td>\n",
       "      <td>1</td>\n",
       "      <td>2</td>\n",
       "      <td>1</td>\n",
       "      <td>0</td>\n",
       "      <td>1</td>\n",
       "      <td>0</td>\n",
       "      <td>0</td>\n",
       "      <td>2</td>\n",
       "      <td>0</td>\n",
       "      <td>1</td>\n",
       "      <td>5</td>\n",
       "      <td>0.277298</td>\n",
       "      <td>2</td>\n",
       "    </tr>\n",
       "    <tr>\n",
       "      <th>4</th>\n",
       "      <td>0.972222</td>\n",
       "      <td>0.559322</td>\n",
       "      <td>4</td>\n",
       "      <td>2</td>\n",
       "      <td>2</td>\n",
       "      <td>1</td>\n",
       "      <td>1</td>\n",
       "      <td>1</td>\n",
       "      <td>0</td>\n",
       "      <td>1</td>\n",
       "      <td>1</td>\n",
       "      <td>1</td>\n",
       "      <td>0</td>\n",
       "      <td>6</td>\n",
       "      <td>0.245876</td>\n",
       "      <td>4</td>\n",
       "    </tr>\n",
       "  </tbody>\n",
       "</table>\n",
       "</div>"
      ]
     },
     "execution_count": 132,
     "metadata": {},
     "output_type": "execute_result"
    }
   ],
   "execution_count": 132
  },
  {
   "metadata": {
    "ExecuteTime": {
     "end_time": "2024-09-28T22:18:53.977609Z",
     "start_time": "2024-09-28T22:18:53.972968Z"
    }
   },
   "cell_type": "code",
   "source": [
    "# Scaling Data\n",
    "scaled_columns = [\"price\", \"area\", \"area_per_room\"]\n",
    "scaler = MinMaxScaler()\n",
    "train_df[scaled_columns] = scaler.fit_transform(df[scaled_columns])"
   ],
   "id": "90a8ddb0f26ae66e",
   "outputs": [],
   "execution_count": 134
  },
  {
   "metadata": {
    "ExecuteTime": {
     "end_time": "2024-09-28T22:22:36.543845Z",
     "start_time": "2024-09-28T22:22:36.536130Z"
    }
   },
   "cell_type": "code",
   "source": [
    "# Creating training and testing datasets\n",
    "X = train_df.drop(columns=\"price\")\n",
    "Y = train_df['price']\n",
    "\n",
    "X_train, X_test, Y_train, Y_test = train_test_split(X, Y, test_size=0.15, random_state=42)"
   ],
   "id": "9edbbac0e7b44b3d",
   "outputs": [],
   "execution_count": 135
  },
  {
   "metadata": {},
   "cell_type": "code",
   "outputs": [],
   "execution_count": null,
   "source": [
    "# Creating objective function for model optimization\n",
    "\n",
    "def objective_elastic(trial):\n",
    "    alpha = trial.suggest_loguniform('alpha', 1e-4, 1e1)\n",
    "    L1_ratio = trial.suggest_loguniform('l1_ratio', 0.0, 1.0)\n",
    "    \n",
    "    # Creating Elastic Net model with suggested hyperparams\n",
    "    model = ElasticNet(alpha=alpha, l1_ratio=L1_ratio, random_state=42)\n",
    "    "
   ],
   "id": "28992f2613f9329e"
  }
 ],
 "metadata": {
  "kernelspec": {
   "display_name": "Python 3",
   "language": "python",
   "name": "python3"
  },
  "language_info": {
   "codemirror_mode": {
    "name": "ipython",
    "version": 2
   },
   "file_extension": ".py",
   "mimetype": "text/x-python",
   "name": "python",
   "nbconvert_exporter": "python",
   "pygments_lexer": "ipython2",
   "version": "2.7.6"
  }
 },
 "nbformat": 4,
 "nbformat_minor": 5
}
