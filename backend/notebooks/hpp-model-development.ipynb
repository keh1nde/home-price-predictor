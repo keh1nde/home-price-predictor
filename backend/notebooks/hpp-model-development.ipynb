{
 "cells": [
  {
   "metadata": {},
   "cell_type": "markdown",
   "source": "Used libraries:",
   "id": "a42449c40650cbdc"
  },
  {
   "cell_type": "code",
   "id": "initial_id",
   "metadata": {
    "collapsed": true,
    "ExecuteTime": {
     "end_time": "2024-09-28T22:42:22.788925Z",
     "start_time": "2024-09-28T22:42:22.784478Z"
    }
   },
   "source": [
    "import pandas as pd\n",
    "from sklearn.preprocessing import MinMaxScaler\n",
    "from sklearn.model_selection import train_test_split\n",
    "from sklearn.metrics import mean_squared_error, r2_score\n",
    "from sklearn.linear_model import ElasticNetCV\n",
    "from sklearn.linear_model import ElasticNet\n",
    "import optuna\n",
    "import pickle"
   ],
   "outputs": [],
   "execution_count": 167
  },
  {
   "metadata": {},
   "cell_type": "markdown",
   "source": "## Preprocessing",
   "id": "97f6258857c2fd4c"
  },
  {
   "metadata": {
    "ExecuteTime": {
     "end_time": "2024-09-28T22:35:41.853460Z",
     "start_time": "2024-09-28T22:35:41.847994Z"
    }
   },
   "cell_type": "code",
   "source": [
    "# Import dataset\n",
    "train_df = pd.read_csv('../../backend/data/training-housing-dataset.csv')"
   ],
   "id": "6b36e553a15e8a99",
   "outputs": [],
   "execution_count": 157
  },
  {
   "metadata": {
    "ExecuteTime": {
     "end_time": "2024-09-28T22:35:42.352973Z",
     "start_time": "2024-09-28T22:35:42.346485Z"
    }
   },
   "cell_type": "code",
   "source": "train_df.head()",
   "id": "441ef563b06b5955",
   "outputs": [
    {
     "data": {
      "text/plain": [
       "   Unnamed: 0     price      area  bedrooms  bathrooms  stories  mainroad  \\\n",
       "0           0  1.000000  0.553672         4          2        2         1   \n",
       "1           1  0.990741  0.209040         4          2        2         1   \n",
       "2           2  0.990741  0.694915         3          2        2         1   \n",
       "3           3  0.972222  0.491525         4          1        2         1   \n",
       "4           4  0.972222  0.559322         4          2        2         1   \n",
       "\n",
       "   guestroom  basement  hotwaterheating  airconditioning  parking  prefarea  \\\n",
       "0          0         0                0                1        1         1   \n",
       "1          0         0                1                0        2         0   \n",
       "2          0         0                0                0        0         1   \n",
       "3          0         1                0                0        2         0   \n",
       "4          1         1                0                1        1         1   \n",
       "\n",
       "   furnishingstatus  total_rooms  area_per_room  amenity_count  \n",
       "0                 1            6       0.243257              2  \n",
       "1                 2            6       0.083530              2  \n",
       "2                 1            5       0.390416              1  \n",
       "3                 1            5       0.277298              2  \n",
       "4                 0            6       0.245876              4  "
      ],
      "text/html": [
       "<div>\n",
       "<style scoped>\n",
       "    .dataframe tbody tr th:only-of-type {\n",
       "        vertical-align: middle;\n",
       "    }\n",
       "\n",
       "    .dataframe tbody tr th {\n",
       "        vertical-align: top;\n",
       "    }\n",
       "\n",
       "    .dataframe thead th {\n",
       "        text-align: right;\n",
       "    }\n",
       "</style>\n",
       "<table border=\"1\" class=\"dataframe\">\n",
       "  <thead>\n",
       "    <tr style=\"text-align: right;\">\n",
       "      <th></th>\n",
       "      <th>Unnamed: 0</th>\n",
       "      <th>price</th>\n",
       "      <th>area</th>\n",
       "      <th>bedrooms</th>\n",
       "      <th>bathrooms</th>\n",
       "      <th>stories</th>\n",
       "      <th>mainroad</th>\n",
       "      <th>guestroom</th>\n",
       "      <th>basement</th>\n",
       "      <th>hotwaterheating</th>\n",
       "      <th>airconditioning</th>\n",
       "      <th>parking</th>\n",
       "      <th>prefarea</th>\n",
       "      <th>furnishingstatus</th>\n",
       "      <th>total_rooms</th>\n",
       "      <th>area_per_room</th>\n",
       "      <th>amenity_count</th>\n",
       "    </tr>\n",
       "  </thead>\n",
       "  <tbody>\n",
       "    <tr>\n",
       "      <th>0</th>\n",
       "      <td>0</td>\n",
       "      <td>1.000000</td>\n",
       "      <td>0.553672</td>\n",
       "      <td>4</td>\n",
       "      <td>2</td>\n",
       "      <td>2</td>\n",
       "      <td>1</td>\n",
       "      <td>0</td>\n",
       "      <td>0</td>\n",
       "      <td>0</td>\n",
       "      <td>1</td>\n",
       "      <td>1</td>\n",
       "      <td>1</td>\n",
       "      <td>1</td>\n",
       "      <td>6</td>\n",
       "      <td>0.243257</td>\n",
       "      <td>2</td>\n",
       "    </tr>\n",
       "    <tr>\n",
       "      <th>1</th>\n",
       "      <td>1</td>\n",
       "      <td>0.990741</td>\n",
       "      <td>0.209040</td>\n",
       "      <td>4</td>\n",
       "      <td>2</td>\n",
       "      <td>2</td>\n",
       "      <td>1</td>\n",
       "      <td>0</td>\n",
       "      <td>0</td>\n",
       "      <td>1</td>\n",
       "      <td>0</td>\n",
       "      <td>2</td>\n",
       "      <td>0</td>\n",
       "      <td>2</td>\n",
       "      <td>6</td>\n",
       "      <td>0.083530</td>\n",
       "      <td>2</td>\n",
       "    </tr>\n",
       "    <tr>\n",
       "      <th>2</th>\n",
       "      <td>2</td>\n",
       "      <td>0.990741</td>\n",
       "      <td>0.694915</td>\n",
       "      <td>3</td>\n",
       "      <td>2</td>\n",
       "      <td>2</td>\n",
       "      <td>1</td>\n",
       "      <td>0</td>\n",
       "      <td>0</td>\n",
       "      <td>0</td>\n",
       "      <td>0</td>\n",
       "      <td>0</td>\n",
       "      <td>1</td>\n",
       "      <td>1</td>\n",
       "      <td>5</td>\n",
       "      <td>0.390416</td>\n",
       "      <td>1</td>\n",
       "    </tr>\n",
       "    <tr>\n",
       "      <th>3</th>\n",
       "      <td>3</td>\n",
       "      <td>0.972222</td>\n",
       "      <td>0.491525</td>\n",
       "      <td>4</td>\n",
       "      <td>1</td>\n",
       "      <td>2</td>\n",
       "      <td>1</td>\n",
       "      <td>0</td>\n",
       "      <td>1</td>\n",
       "      <td>0</td>\n",
       "      <td>0</td>\n",
       "      <td>2</td>\n",
       "      <td>0</td>\n",
       "      <td>1</td>\n",
       "      <td>5</td>\n",
       "      <td>0.277298</td>\n",
       "      <td>2</td>\n",
       "    </tr>\n",
       "    <tr>\n",
       "      <th>4</th>\n",
       "      <td>4</td>\n",
       "      <td>0.972222</td>\n",
       "      <td>0.559322</td>\n",
       "      <td>4</td>\n",
       "      <td>2</td>\n",
       "      <td>2</td>\n",
       "      <td>1</td>\n",
       "      <td>1</td>\n",
       "      <td>1</td>\n",
       "      <td>0</td>\n",
       "      <td>1</td>\n",
       "      <td>1</td>\n",
       "      <td>1</td>\n",
       "      <td>0</td>\n",
       "      <td>6</td>\n",
       "      <td>0.245876</td>\n",
       "      <td>4</td>\n",
       "    </tr>\n",
       "  </tbody>\n",
       "</table>\n",
       "</div>"
      ]
     },
     "execution_count": 158,
     "metadata": {},
     "output_type": "execute_result"
    }
   ],
   "execution_count": 158
  },
  {
   "metadata": {
    "ExecuteTime": {
     "end_time": "2024-09-28T22:35:42.994208Z",
     "start_time": "2024-09-28T22:35:42.989748Z"
    }
   },
   "cell_type": "code",
   "source": [
    "# Scaling Data\n",
    "scaled_columns = [\"price\", \"area\", \"area_per_room\"]\n",
    "scaler = MinMaxScaler()\n",
    "train_df[scaled_columns] = scaler.fit_transform(train_df[scaled_columns])"
   ],
   "id": "90a8ddb0f26ae66e",
   "outputs": [],
   "execution_count": 159
  },
  {
   "metadata": {
    "ExecuteTime": {
     "end_time": "2024-09-28T22:35:43.474057Z",
     "start_time": "2024-09-28T22:35:43.467766Z"
    }
   },
   "cell_type": "code",
   "source": [
    "# Creating training and testing datasets\n",
    "X = train_df.drop(columns=\"price\")\n",
    "Y = train_df['price']\n",
    "\n",
    "X_train, X_test, Y_train, Y_test = train_test_split(X, Y, test_size=0.15, random_state=42)"
   ],
   "id": "9edbbac0e7b44b3d",
   "outputs": [],
   "execution_count": 160
  },
  {
   "metadata": {
    "ExecuteTime": {
     "end_time": "2024-09-28T22:35:44.104902Z",
     "start_time": "2024-09-28T22:35:44.101498Z"
    }
   },
   "cell_type": "code",
   "source": [
    "# Creating objective function for model optimization\n",
    "\n",
    "def objective_elastic(trial):\n",
    "    alpha = trial.suggest_loguniform('alpha', 1e-4, 1e1)\n",
    "    l1_ratio = trial.suggest_uniform('l1_ratio', 0.0, 1.0)\n",
    "    \n",
    "    # Creating, training and predicting Elastic Net model with suggested hyperparams\n",
    "    model = ElasticNet(alpha=alpha, l1_ratio=l1_ratio, random_state=42)\n",
    "    model.fit(X_train, Y_train)\n",
    "    y_pred = model.predict(X_test)\n",
    "    mse=mean_squared_error(Y_test, y_pred)\n",
    "    \n",
    "    return mse"
   ],
   "id": "28992f2613f9329e",
   "outputs": [],
   "execution_count": 161
  },
  {
   "metadata": {
    "ExecuteTime": {
     "end_time": "2024-09-28T22:36:49.830051Z",
     "start_time": "2024-09-28T22:36:49.223115Z"
    }
   },
   "cell_type": "code",
   "source": [
    "# Creating study and optimizing\n",
    "study = optuna.create_study(direction='minimize') # To minimize MSE\n",
    "study.optimize(objective_elastic, n_trials=100)"
   ],
   "id": "71b8668384ffdba4",
   "outputs": [
    {
     "name": "stderr",
     "output_type": "stream",
     "text": [
      "[I 2024-09-28 18:36:49,225] A new study created in memory with name: no-name-d7f9d386-ef60-4e02-a504-19753000e448\n",
      "[I 2024-09-28 18:36:49,232] Trial 0 finished with value: 0.005451283292583611 and parameters: {'alpha': 2.2280544857699813, 'l1_ratio': 0.43281725937580506}. Best is trial 0 with value: 0.005451283292583611.\n",
      "[I 2024-09-28 18:36:49,236] Trial 1 finished with value: 0.005238833486875389 and parameters: {'alpha': 1.0368093051885305, 'l1_ratio': 0.27269313831764597}. Best is trial 1 with value: 0.005238833486875389.\n",
      "[I 2024-09-28 18:36:49,240] Trial 2 finished with value: 0.005217758527315619 and parameters: {'alpha': 0.6786818736051592, 'l1_ratio': 0.3005175603303166}. Best is trial 2 with value: 0.005217758527315619.\n",
      "[I 2024-09-28 18:36:49,245] Trial 3 finished with value: 0.005302481308538445 and parameters: {'alpha': 0.0004933793356601141, 'l1_ratio': 0.15028716534069275}. Best is trial 2 with value: 0.005217758527315619.\n",
      "[I 2024-09-28 18:36:49,248] Trial 4 finished with value: 0.007412526493283843 and parameters: {'alpha': 7.145627200210654, 'l1_ratio': 0.6252843860700726}. Best is trial 2 with value: 0.005217758527315619.\n",
      "[I 2024-09-28 18:36:49,251] Trial 5 finished with value: 0.005210605469544975 and parameters: {'alpha': 0.13801398820095834, 'l1_ratio': 0.04552314864854412}. Best is trial 5 with value: 0.005210605469544975.\n",
      "[I 2024-09-28 18:36:49,256] Trial 6 finished with value: 0.0052948499233171215 and parameters: {'alpha': 0.00010132766769437214, 'l1_ratio': 0.3519685473588854}. Best is trial 5 with value: 0.005210605469544975.\n",
      "[I 2024-09-28 18:36:49,259] Trial 7 finished with value: 0.00527880431741736 and parameters: {'alpha': 0.005902171921789916, 'l1_ratio': 0.5124993882922881}. Best is trial 5 with value: 0.005210605469544975.\n",
      "[I 2024-09-28 18:36:49,262] Trial 8 finished with value: 0.00538882881094234 and parameters: {'alpha': 3.7879037273880365, 'l1_ratio': 0.2056188588412664}. Best is trial 5 with value: 0.005210605469544975.\n",
      "[I 2024-09-28 18:36:49,265] Trial 9 finished with value: 0.0052294695636577945 and parameters: {'alpha': 0.0008742146883441714, 'l1_ratio': 0.7278700693994747}. Best is trial 5 with value: 0.005210605469544975.\n",
      "[I 2024-09-28 18:36:49,271] Trial 10 finished with value: 0.005182540396657913 and parameters: {'alpha': 0.06860142406996703, 'l1_ratio': 0.9559245878618259}. Best is trial 10 with value: 0.005182540396657913.\n",
      "[I 2024-09-28 18:36:49,276] Trial 11 finished with value: 0.005187572256201466 and parameters: {'alpha': 0.08775352002626516, 'l1_ratio': 0.980105407684444}. Best is trial 10 with value: 0.005182540396657913.\n",
      "[I 2024-09-28 18:36:49,282] Trial 12 finished with value: 0.005179468264185428 and parameters: {'alpha': 0.055012999305009316, 'l1_ratio': 0.9635396009589932}. Best is trial 12 with value: 0.005179468264185428.\n",
      "[I 2024-09-28 18:36:49,287] Trial 13 finished with value: 0.005170683071515392 and parameters: {'alpha': 0.016773323182666566, 'l1_ratio': 0.9912470926630739}. Best is trial 13 with value: 0.005170683071515392.\n",
      "[I 2024-09-28 18:36:49,292] Trial 14 finished with value: 0.0052238626780493685 and parameters: {'alpha': 0.007717697765039715, 'l1_ratio': 0.8087418708891493}. Best is trial 13 with value: 0.005170683071515392.\n",
      "[I 2024-09-28 18:36:49,298] Trial 15 finished with value: 0.00522863632507205 and parameters: {'alpha': 0.007516506577804005, 'l1_ratio': 0.80365885588078}. Best is trial 13 with value: 0.005170683071515392.\n",
      "[I 2024-09-28 18:36:49,303] Trial 16 finished with value: 0.005171735489600908 and parameters: {'alpha': 0.023620066969529816, 'l1_ratio': 0.8897597593392759}. Best is trial 13 with value: 0.005170683071515392.\n",
      "[I 2024-09-28 18:36:49,308] Trial 17 finished with value: 0.00522917242521696 and parameters: {'alpha': 0.29111677332789576, 'l1_ratio': 0.8510195902193587}. Best is trial 13 with value: 0.005170683071515392.\n",
      "[I 2024-09-28 18:36:49,314] Trial 18 finished with value: 0.005169561225123197 and parameters: {'alpha': 0.01840865568791374, 'l1_ratio': 0.6477705272463006}. Best is trial 18 with value: 0.005169561225123197.\n",
      "[I 2024-09-28 18:36:49,319] Trial 19 finished with value: 0.00519950889371744 and parameters: {'alpha': 0.0018266269007060417, 'l1_ratio': 0.6389006181002198}. Best is trial 18 with value: 0.005169561225123197.\n",
      "[I 2024-09-28 18:36:49,325] Trial 20 finished with value: 0.005169119934831861 and parameters: {'alpha': 0.01787467412724317, 'l1_ratio': 0.5635695806529772}. Best is trial 20 with value: 0.005169119934831861.\n",
      "[I 2024-09-28 18:36:49,331] Trial 21 finished with value: 0.005168986430905092 and parameters: {'alpha': 0.017793310889306406, 'l1_ratio': 0.5346506694761376}. Best is trial 21 with value: 0.005168986430905092.\n",
      "[I 2024-09-28 18:36:49,336] Trial 22 finished with value: 0.005230148024635437 and parameters: {'alpha': 0.003315165066097071, 'l1_ratio': 0.5350445583434131}. Best is trial 21 with value: 0.005168986430905092.\n",
      "[I 2024-09-28 18:36:49,342] Trial 23 finished with value: 0.005170637407787589 and parameters: {'alpha': 0.02650134035738277, 'l1_ratio': 0.6196763790217529}. Best is trial 21 with value: 0.005168986430905092.\n",
      "[I 2024-09-28 18:36:49,348] Trial 24 finished with value: 0.005193711491519576 and parameters: {'alpha': 0.2746260085010071, 'l1_ratio': 0.40216601109521527}. Best is trial 21 with value: 0.005168986430905092.\n",
      "[I 2024-09-28 18:36:49,354] Trial 25 finished with value: 0.005170101879265028 and parameters: {'alpha': 0.013055373969189862, 'l1_ratio': 0.7114740690016772}. Best is trial 21 with value: 0.005168986430905092.\n",
      "[I 2024-09-28 18:36:49,360] Trial 26 finished with value: 0.005218522653949807 and parameters: {'alpha': 0.0016276991668903618, 'l1_ratio': 0.46684585996942407}. Best is trial 21 with value: 0.005168986430905092.\n",
      "[I 2024-09-28 18:36:49,366] Trial 27 finished with value: 0.005171813705705304 and parameters: {'alpha': 0.03846779137033752, 'l1_ratio': 0.5542984867168027}. Best is trial 21 with value: 0.005168986430905092.\n",
      "[I 2024-09-28 18:36:49,375] Trial 28 finished with value: 0.005294189188901046 and parameters: {'alpha': 0.0003423696197987014, 'l1_ratio': 0.7020678849042437}. Best is trial 21 with value: 0.005168986430905092.\n",
      "[I 2024-09-28 18:36:49,382] Trial 29 finished with value: 0.005225836471551214 and parameters: {'alpha': 0.0039940588485733765, 'l1_ratio': 0.4261689758696912}. Best is trial 21 with value: 0.005168986430905092.\n",
      "[I 2024-09-28 18:36:49,388] Trial 30 finished with value: 0.005180905290527906 and parameters: {'alpha': 0.014518039770364895, 'l1_ratio': 0.583901382085734}. Best is trial 21 with value: 0.005168986430905092.\n",
      "[I 2024-09-28 18:36:49,394] Trial 31 finished with value: 0.005172191266671012 and parameters: {'alpha': 0.012654495676856644, 'l1_ratio': 0.7204683669870615}. Best is trial 21 with value: 0.005168986430905092.\n",
      "[I 2024-09-28 18:36:49,399] Trial 32 finished with value: 0.0051728940459244204 and parameters: {'alpha': 0.03809235968353752, 'l1_ratio': 0.6780406481276827}. Best is trial 21 with value: 0.005168986430905092.\n",
      "[I 2024-09-28 18:36:49,405] Trial 33 finished with value: 0.00518900504141347 and parameters: {'alpha': 0.11847361235696566, 'l1_ratio': 0.7744708102508805}. Best is trial 21 with value: 0.005168986430905092.\n",
      "[I 2024-09-28 18:36:49,411] Trial 34 finished with value: 0.005246815541257343 and parameters: {'alpha': 0.0110906215036577, 'l1_ratio': 0.4786630306258961}. Best is trial 21 with value: 0.005168986430905092.\n",
      "[I 2024-09-28 18:36:49,417] Trial 35 finished with value: 0.005310231899082709 and parameters: {'alpha': 0.8982929197687003, 'l1_ratio': 0.5934604512790788}. Best is trial 21 with value: 0.005168986430905092.\n",
      "[I 2024-09-28 18:36:49,423] Trial 36 finished with value: 0.005206091943132829 and parameters: {'alpha': 0.2393465214317552, 'l1_ratio': 0.6660900241201094}. Best is trial 21 with value: 0.005168986430905092.\n",
      "[I 2024-09-28 18:36:49,430] Trial 37 finished with value: 0.005222367183410443 and parameters: {'alpha': 0.004592857329791157, 'l1_ratio': 0.3570917557603461}. Best is trial 21 with value: 0.005168986430905092.\n",
      "[I 2024-09-28 18:36:49,435] Trial 38 finished with value: 0.0052215928323856645 and parameters: {'alpha': 0.0021707816804553927, 'l1_ratio': 0.7511526911127091}. Best is trial 21 with value: 0.005168986430905092.\n",
      "[I 2024-09-28 18:36:49,442] Trial 39 finished with value: 0.005227586761806032 and parameters: {'alpha': 0.0243912315897045, 'l1_ratio': 0.2456294937179232}. Best is trial 21 with value: 0.005168986430905092.\n",
      "[I 2024-09-28 18:36:49,447] Trial 40 finished with value: 0.005173935957215554 and parameters: {'alpha': 0.05492543751753907, 'l1_ratio': 0.548756979798665}. Best is trial 21 with value: 0.005168986430905092.\n",
      "[I 2024-09-28 18:36:49,453] Trial 41 finished with value: 0.005170467354100714 and parameters: {'alpha': 0.024959340547101763, 'l1_ratio': 0.6295269613972582}. Best is trial 21 with value: 0.005168986430905092.\n",
      "[I 2024-09-28 18:36:49,460] Trial 42 finished with value: 0.005225260813572485 and parameters: {'alpha': 0.009433627187247247, 'l1_ratio': 0.6543168895264574}. Best is trial 21 with value: 0.005168986430905092.\n",
      "[I 2024-09-28 18:36:49,466] Trial 43 finished with value: 0.005187753497336096 and parameters: {'alpha': 0.01640919928388584, 'l1_ratio': 0.4895961561936826}. Best is trial 21 with value: 0.005168986430905092.\n",
      "[I 2024-09-28 18:36:49,472] Trial 44 finished with value: 0.0051722248640177475 and parameters: {'alpha': 0.039409795932576375, 'l1_ratio': 0.5845519860990473}. Best is trial 21 with value: 0.005168986430905092.\n",
      "[I 2024-09-28 18:36:49,478] Trial 45 finished with value: 0.005195315608028654 and parameters: {'alpha': 0.1914541407211785, 'l1_ratio': 0.6109104411191091}. Best is trial 21 with value: 0.005168986430905092.\n",
      "[I 2024-09-28 18:36:49,484] Trial 46 finished with value: 0.005175187221709232 and parameters: {'alpha': 0.4465917259272688, 'l1_ratio': 0.07793495095585168}. Best is trial 21 with value: 0.005168986430905092.\n",
      "[I 2024-09-28 18:36:49,490] Trial 47 finished with value: 0.005181681726701487 and parameters: {'alpha': 0.11725756382563483, 'l1_ratio': 0.5287598545067469}. Best is trial 21 with value: 0.005168986430905092.\n",
      "[I 2024-09-28 18:36:49,496] Trial 48 finished with value: 0.005426009703558719 and parameters: {'alpha': 2.3181514973273476, 'l1_ratio': 0.38452864036493956}. Best is trial 21 with value: 0.005168986430905092.\n",
      "[I 2024-09-28 18:36:49,503] Trial 49 finished with value: 0.005222082181409777 and parameters: {'alpha': 0.0008044732374728962, 'l1_ratio': 0.8928963070238635}. Best is trial 21 with value: 0.005168986430905092.\n",
      "[I 2024-09-28 18:36:49,508] Trial 50 finished with value: 0.005276352578440381 and parameters: {'alpha': 0.0065647571840463294, 'l1_ratio': 0.44451592430106246}. Best is trial 21 with value: 0.005168986430905092.\n",
      "[I 2024-09-28 18:36:49,514] Trial 51 finished with value: 0.005170586145465469 and parameters: {'alpha': 0.02547501942585434, 'l1_ratio': 0.6362747085301871}. Best is trial 21 with value: 0.005168986430905092.\n",
      "[I 2024-09-28 18:36:49,520] Trial 52 finished with value: 0.005170076852689924 and parameters: {'alpha': 0.020073454410725677, 'l1_ratio': 0.7016126080525291}. Best is trial 21 with value: 0.005168986430905092.\n",
      "[I 2024-09-28 18:36:49,527] Trial 53 finished with value: 0.005177807177596876 and parameters: {'alpha': 0.06051351739622485, 'l1_ratio': 0.7628179921978391}. Best is trial 21 with value: 0.005168986430905092.\n",
      "[I 2024-09-28 18:36:49,532] Trial 54 finished with value: 0.005169589928062727 and parameters: {'alpha': 0.01733672458339801, 'l1_ratio': 0.6948496263158794}. Best is trial 21 with value: 0.005168986430905092.\n",
      "[I 2024-09-28 18:36:49,539] Trial 55 finished with value: 0.005281986479956174 and parameters: {'alpha': 0.00617476220099754, 'l1_ratio': 0.6895811585460445}. Best is trial 21 with value: 0.005168986430905092.\n",
      "[I 2024-09-28 18:36:49,545] Trial 56 finished with value: 0.005169965204274916 and parameters: {'alpha': 0.016472250796900945, 'l1_ratio': 0.8268962138272933}. Best is trial 21 with value: 0.005168986430905092.\n",
      "[I 2024-09-28 18:36:49,551] Trial 57 finished with value: 0.005256017150921309 and parameters: {'alpha': 0.002991278320181235, 'l1_ratio': 0.823046155727417}. Best is trial 21 with value: 0.005168986430905092.\n",
      "[I 2024-09-28 18:36:49,556] Trial 58 finished with value: 0.005170764999366146 and parameters: {'alpha': 0.0187287298693804, 'l1_ratio': 0.9059156784692035}. Best is trial 21 with value: 0.005168986430905092.\n",
      "[I 2024-09-28 18:36:49,562] Trial 59 finished with value: 0.0052183728427086205 and parameters: {'alpha': 0.008243970998330439, 'l1_ratio': 0.7859865325444204}. Best is trial 21 with value: 0.005168986430905092.\n",
      "[I 2024-09-28 18:36:49,569] Trial 60 finished with value: 0.005181907272657658 and parameters: {'alpha': 0.07489252533372734, 'l1_ratio': 0.8409536783878191}. Best is trial 21 with value: 0.005168986430905092.\n",
      "[I 2024-09-28 18:36:49,575] Trial 61 finished with value: 0.0051692538481811715 and parameters: {'alpha': 0.014395132982746554, 'l1_ratio': 0.7391681283254299}. Best is trial 21 with value: 0.005168986430905092.\n",
      "[I 2024-09-28 18:36:49,581] Trial 62 finished with value: 0.005170039655103405 and parameters: {'alpha': 0.018828570814937256, 'l1_ratio': 0.7398130847565052}. Best is trial 21 with value: 0.005168986430905092.\n",
      "[I 2024-09-28 18:36:49,587] Trial 63 finished with value: 0.00517587386421639 and parameters: {'alpha': 0.051399808695778225, 'l1_ratio': 0.7428924969846057}. Best is trial 21 with value: 0.005168986430905092.\n",
      "[I 2024-09-28 18:36:49,593] Trial 64 finished with value: 0.0051743267405417875 and parameters: {'alpha': 0.034313927036553844, 'l1_ratio': 0.9265115925441008}. Best is trial 21 with value: 0.005168986430905092.\n",
      "[I 2024-09-28 18:36:49,599] Trial 65 finished with value: 0.005173943723974411 and parameters: {'alpha': 0.010392449943193653, 'l1_ratio': 0.8642031315744763}. Best is trial 21 with value: 0.005168986430905092.\n",
      "[I 2024-09-28 18:36:49,605] Trial 66 finished with value: 0.005277625031038705 and parameters: {'alpha': 0.005285178687455697, 'l1_ratio': 0.5616964863274695}. Best is trial 21 with value: 0.005168986430905092.\n",
      "[I 2024-09-28 18:36:49,611] Trial 67 finished with value: 0.005185135399705564 and parameters: {'alpha': 0.09420162285318738, 'l1_ratio': 0.8080290994253985}. Best is trial 21 with value: 0.005168986430905092.\n",
      "[I 2024-09-28 18:36:49,618] Trial 68 finished with value: 0.005169824333670897 and parameters: {'alpha': 0.01794264757376188, 'l1_ratio': 0.726115187539914}. Best is trial 21 with value: 0.005168986430905092.\n",
      "[I 2024-09-28 18:36:49,624] Trial 69 finished with value: 0.00521541277903703 and parameters: {'alpha': 0.0029883754826828157, 'l1_ratio': 0.5045699826642247}. Best is trial 21 with value: 0.005168986430905092.\n",
      "[I 2024-09-28 18:36:49,630] Trial 70 finished with value: 0.005172034529606805 and parameters: {'alpha': 0.013897685250562637, 'l1_ratio': 0.6568885581527137}. Best is trial 21 with value: 0.005168986430905092.\n",
      "[I 2024-09-28 18:36:49,635] Trial 71 finished with value: 0.005172525466404512 and parameters: {'alpha': 0.033409812774097186, 'l1_ratio': 0.7272908753187344}. Best is trial 21 with value: 0.005168986430905092.\n",
      "[I 2024-09-28 18:36:49,641] Trial 72 finished with value: 0.005221063791527079 and parameters: {'alpha': 0.008161679340412599, 'l1_ratio': 0.7793587373104105}. Best is trial 21 with value: 0.005168986430905092.\n",
      "[I 2024-09-28 18:36:49,647] Trial 73 finished with value: 0.005169296871226313 and parameters: {'alpha': 0.015907763590307097, 'l1_ratio': 0.6801036187119801}. Best is trial 21 with value: 0.005168986430905092.\n",
      "[I 2024-09-28 18:36:49,654] Trial 74 finished with value: 0.0051844362648640644 and parameters: {'alpha': 0.012122170248448657, 'l1_ratio': 0.6805423458612905}. Best is trial 21 with value: 0.005168986430905092.\n",
      "[I 2024-09-28 18:36:49,660] Trial 75 finished with value: 0.005172969669108161 and parameters: {'alpha': 0.04389015090815232, 'l1_ratio': 0.5954706525240183}. Best is trial 21 with value: 0.005168986430905092.\n",
      "[I 2024-09-28 18:36:49,666] Trial 76 finished with value: 0.007768850867236284 and parameters: {'alpha': 8.640568890471, 'l1_ratio': 0.568918826618837}. Best is trial 21 with value: 0.005168986430905092.\n",
      "[I 2024-09-28 18:36:49,672] Trial 77 finished with value: 0.005171053270498452 and parameters: {'alpha': 0.029337665312751848, 'l1_ratio': 0.6189301271763497}. Best is trial 21 with value: 0.005168986430905092.\n",
      "[I 2024-09-28 18:36:49,678] Trial 78 finished with value: 0.005281595900781655 and parameters: {'alpha': 0.00450106689413099, 'l1_ratio': 0.704632055402012}. Best is trial 21 with value: 0.005168986430905092.\n",
      "[I 2024-09-28 18:36:49,684] Trial 79 finished with value: 0.005169334864685973 and parameters: {'alpha': 0.01657017554974546, 'l1_ratio': 0.6624831487248083}. Best is trial 21 with value: 0.005168986430905092.\n",
      "[I 2024-09-28 18:36:49,691] Trial 80 finished with value: 0.005250690038781645 and parameters: {'alpha': 0.009916430904626152, 'l1_ratio': 0.5227059620292351}. Best is trial 21 with value: 0.005168986430905092.\n",
      "[I 2024-09-28 18:36:49,697] Trial 81 finished with value: 0.005169854211364783 and parameters: {'alpha': 0.01970292718315195, 'l1_ratio': 0.6674787208684658}. Best is trial 21 with value: 0.005168986430905092.\n",
      "[I 2024-09-28 18:36:49,702] Trial 82 finished with value: 0.005170046275871878 and parameters: {'alpha': 0.021618710382256955, 'l1_ratio': 0.6454402714167351}. Best is trial 21 with value: 0.005168986430905092.\n",
      "[I 2024-09-28 18:36:49,709] Trial 83 finished with value: 0.005174813523334332 and parameters: {'alpha': 0.01472373907674977, 'l1_ratio': 0.6052707601373585}. Best is trial 21 with value: 0.005168986430905092.\n",
      "[I 2024-09-28 18:36:49,715] Trial 84 finished with value: 0.005171339338046153 and parameters: {'alpha': 0.028900911131588145, 'l1_ratio': 0.6696780643041277}. Best is trial 21 with value: 0.005168986430905092.\n",
      "[I 2024-09-28 18:36:49,721] Trial 85 finished with value: 0.005262052688600517 and parameters: {'alpha': 0.0067583972668043635, 'l1_ratio': 0.7157692147919633}. Best is trial 21 with value: 0.005168986430905092.\n",
      "[I 2024-09-28 18:36:49,729] Trial 86 finished with value: 0.005303211679322097 and parameters: {'alpha': 0.00015976344793692756, 'l1_ratio': 0.6822213137603877}. Best is trial 21 with value: 0.005168986430905092.\n",
      "[I 2024-09-28 18:36:49,751] Trial 87 finished with value: 0.005173458429344463 and parameters: {'alpha': 0.044370922635917985, 'l1_ratio': 0.6348568187705704}. Best is trial 21 with value: 0.005168986430905092.\n",
      "[I 2024-09-28 18:36:49,759] Trial 88 finished with value: 0.0052265197849980845 and parameters: {'alpha': 0.011189029490640332, 'l1_ratio': 0.5460207910025847}. Best is trial 21 with value: 0.005168986430905092.\n",
      "[I 2024-09-28 18:36:49,766] Trial 89 finished with value: 0.005169596405010094 and parameters: {'alpha': 0.020964915166951714, 'l1_ratio': 0.5756602207092419}. Best is trial 21 with value: 0.005168986430905092.\n",
      "[I 2024-09-28 18:36:49,773] Trial 90 finished with value: 0.005177417682883759 and parameters: {'alpha': 0.07676361876329121, 'l1_ratio': 0.5801173324984004}. Best is trial 21 with value: 0.005168986430905092.\n",
      "[I 2024-09-28 18:36:49,778] Trial 91 finished with value: 0.005169107767494794 and parameters: {'alpha': 0.021999172403182752, 'l1_ratio': 0.4553334373316091}. Best is trial 21 with value: 0.005168986430905092.\n",
      "[I 2024-09-28 18:36:49,784] Trial 92 finished with value: 0.0051692330791555125 and parameters: {'alpha': 0.024785959794177016, 'l1_ratio': 0.4252079979964884}. Best is trial 21 with value: 0.005168986430905092.\n",
      "[I 2024-09-28 18:36:49,791] Trial 93 finished with value: 0.005169647691507528 and parameters: {'alpha': 0.02829126277701619, 'l1_ratio': 0.43383797340436414}. Best is trial 21 with value: 0.005168986430905092.\n",
      "[I 2024-09-28 18:36:49,797] Trial 94 finished with value: 0.005259198634292936 and parameters: {'alpha': 0.012888629498947047, 'l1_ratio': 0.3790285474086248}. Best is trial 21 with value: 0.005168986430905092.\n",
      "[I 2024-09-28 18:36:49,803] Trial 95 finished with value: 0.005283672606475023 and parameters: {'alpha': 0.008688688455046596, 'l1_ratio': 0.48245732920229367}. Best is trial 21 with value: 0.005168986430905092.\n",
      "[I 2024-09-28 18:36:49,810] Trial 96 finished with value: 0.005172283293806292 and parameters: {'alpha': 0.05250901642024925, 'l1_ratio': 0.4430295882361167}. Best is trial 21 with value: 0.005168986430905092.\n",
      "[I 2024-09-28 18:36:49,816] Trial 97 finished with value: 0.005195155420212738 and parameters: {'alpha': 0.024479440811175587, 'l1_ratio': 0.309562237872231}. Best is trial 21 with value: 0.005168986430905092.\n",
      "[I 2024-09-28 18:36:49,822] Trial 98 finished with value: 0.005171243548815705 and parameters: {'alpha': 0.03653937497561418, 'l1_ratio': 0.5184448402427515}. Best is trial 21 with value: 0.005168986430905092.\n",
      "[I 2024-09-28 18:36:49,828] Trial 99 finished with value: 0.00520563942897104 and parameters: {'alpha': 0.01521915739331419, 'l1_ratio': 0.46333374659775173}. Best is trial 21 with value: 0.005168986430905092.\n"
     ]
    }
   ],
   "execution_count": 164
  },
  {
   "metadata": {
    "ExecuteTime": {
     "end_time": "2024-09-28T22:36:52.440816Z",
     "start_time": "2024-09-28T22:36:52.437217Z"
    }
   },
   "cell_type": "code",
   "source": [
    "print('Best parameters found: ', study.best_params)\n",
    "print(\"Best MSE achieved\", study.best_value)"
   ],
   "id": "ff04401c5857623a",
   "outputs": [
    {
     "name": "stdout",
     "output_type": "stream",
     "text": [
      "Best parameters found:  {'alpha': 0.017793310889306406, 'l1_ratio': 0.5346506694761376}\n",
      "Best MSE achieved 0.005168986430905092\n"
     ]
    }
   ],
   "execution_count": 165
  },
  {
   "metadata": {
    "ExecuteTime": {
     "end_time": "2024-09-28T22:40:21.717753Z",
     "start_time": "2024-09-28T22:40:21.711297Z"
    }
   },
   "cell_type": "code",
   "source": [
    "# Training final model with best parameters\n",
    "best_params = study.best_params\n",
    "final_model = ElasticNet(alpha=best_params['alpha'], l1_ratio=best_params['l1_ratio'], random_state=42)\n",
    "# Training model on entire set\n",
    "final_model.fit(X_train, Y_train)\n",
    "\n",
    "# Model Evaluation\n",
    "y_pred = final_model.predict(X_test)\n",
    "mse = mean_squared_error(Y_test, y_pred)\n",
    "print(f\"Test MSE with optimized hyperparameters: {mse}\")"
   ],
   "id": "1868546150f932fc",
   "outputs": [
    {
     "name": "stdout",
     "output_type": "stream",
     "text": [
      "Test MSE with optimized hyperparameters: 0.005168986430905092\n"
     ]
    }
   ],
   "execution_count": 166
  },
  {
   "metadata": {
    "ExecuteTime": {
     "end_time": "2024-09-28T22:46:40.996632Z",
     "start_time": "2024-09-28T22:46:40.990336Z"
    }
   },
   "cell_type": "code",
   "source": [
    "# Saving model for use with website\n",
    "\n",
    "with open('elastic_net_model.pkl', 'wb') as file:\n",
    "    pickle.dump(final_model, file)"
   ],
   "id": "71c58b157b6a7ad0",
   "outputs": [],
   "execution_count": 168
  },
  {
   "metadata": {},
   "cell_type": "code",
   "outputs": [],
   "execution_count": null,
   "source": "",
   "id": "faac74925a04fdf0"
  }
 ],
 "metadata": {
  "kernelspec": {
   "display_name": "Python 3",
   "language": "python",
   "name": "python3"
  },
  "language_info": {
   "codemirror_mode": {
    "name": "ipython",
    "version": 2
   },
   "file_extension": ".py",
   "mimetype": "text/x-python",
   "name": "python",
   "nbconvert_exporter": "python",
   "pygments_lexer": "ipython2",
   "version": "2.7.6"
  }
 },
 "nbformat": 4,
 "nbformat_minor": 5
}
